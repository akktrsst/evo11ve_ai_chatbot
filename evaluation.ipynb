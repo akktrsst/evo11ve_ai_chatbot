{
 "cells": [
  {
   "cell_type": "code",
   "execution_count": 18,
   "id": "a505e26a-1912-44cc-9e5e-46a9f820a3fb",
   "metadata": {},
   "outputs": [],
   "source": [
    "import pandas as pd\n",
    "import matplotlib.pyplot as plt\n",
    "from sklearn.metrics import confusion_matrix, ConfusionMatrixDisplay"
   ]
  },
  {
   "cell_type": "code",
   "execution_count": 14,
   "id": "b8c21bbc-ee79-4ae0-a6ba-d7e60602f032",
   "metadata": {},
   "outputs": [],
   "source": [
    "df = pd.read_csv('result.csv')\n",
    "df.drop(columns=['Unnamed: 0'],inplace=True)"
   ]
  },
  {
   "cell_type": "code",
   "execution_count": 16,
   "id": "35779536-c835-42b7-8ebe-0e26c3857c26",
   "metadata": {},
   "outputs": [
    {
     "data": {
      "text/html": [
       "<div>\n",
       "<style scoped>\n",
       "    .dataframe tbody tr th:only-of-type {\n",
       "        vertical-align: middle;\n",
       "    }\n",
       "\n",
       "    .dataframe tbody tr th {\n",
       "        vertical-align: top;\n",
       "    }\n",
       "\n",
       "    .dataframe thead th {\n",
       "        text-align: right;\n",
       "    }\n",
       "</style>\n",
       "<table border=\"1\" class=\"dataframe\">\n",
       "  <thead>\n",
       "    <tr style=\"text-align: right;\">\n",
       "      <th></th>\n",
       "      <th>Question</th>\n",
       "      <th>Response</th>\n",
       "      <th>Expected Contextual</th>\n",
       "      <th>Is Contextual</th>\n",
       "    </tr>\n",
       "  </thead>\n",
       "  <tbody>\n",
       "    <tr>\n",
       "      <th>0</th>\n",
       "      <td>What is the focal length of a convex lens with...</td>\n",
       "      <td>Your curriculum does not have the information ...</td>\n",
       "      <td>True</td>\n",
       "      <td>False</td>\n",
       "    </tr>\n",
       "    <tr>\n",
       "      <th>1</th>\n",
       "      <td>Define the principal focus of a concave mirror.</td>\n",
       "      <td>The principal focus of a concave mirror is the...</td>\n",
       "      <td>True</td>\n",
       "      <td>True</td>\n",
       "    </tr>\n",
       "    <tr>\n",
       "      <th>2</th>\n",
       "      <td>Why do convex mirrors provide a wider field of...</td>\n",
       "      <td>Convex mirrors provide a wider field of view b...</td>\n",
       "      <td>True</td>\n",
       "      <td>True</td>\n",
       "    </tr>\n",
       "    <tr>\n",
       "      <th>3</th>\n",
       "      <td>How does a concave mirror form a real image?</td>\n",
       "      <td>A concave mirror forms a real image when the o...</td>\n",
       "      <td>True</td>\n",
       "      <td>True</td>\n",
       "    </tr>\n",
       "    <tr>\n",
       "      <th>4</th>\n",
       "      <td>What is the power of a lens with a focal lengt...</td>\n",
       "      <td>The power \\( P \\) of a lens is given by the fo...</td>\n",
       "      <td>True</td>\n",
       "      <td>True</td>\n",
       "    </tr>\n",
       "  </tbody>\n",
       "</table>\n",
       "</div>"
      ],
      "text/plain": [
       "                                            Question  \\\n",
       "0  What is the focal length of a convex lens with...   \n",
       "1    Define the principal focus of a concave mirror.   \n",
       "2  Why do convex mirrors provide a wider field of...   \n",
       "3       How does a concave mirror form a real image?   \n",
       "4  What is the power of a lens with a focal lengt...   \n",
       "\n",
       "                                            Response  Expected Contextual  \\\n",
       "0  Your curriculum does not have the information ...                 True   \n",
       "1  The principal focus of a concave mirror is the...                 True   \n",
       "2  Convex mirrors provide a wider field of view b...                 True   \n",
       "3  A concave mirror forms a real image when the o...                 True   \n",
       "4  The power \\( P \\) of a lens is given by the fo...                 True   \n",
       "\n",
       "   Is Contextual  \n",
       "0          False  \n",
       "1           True  \n",
       "2           True  \n",
       "3           True  \n",
       "4           True  "
      ]
     },
     "execution_count": 16,
     "metadata": {},
     "output_type": "execute_result"
    }
   ],
   "source": [
    "df.head()"
   ]
  },
  {
   "cell_type": "code",
   "execution_count": 20,
   "id": "e12f0d8e-af1d-4c9f-a68a-e21ad6271903",
   "metadata": {},
   "outputs": [
    {
     "name": "stdout",
     "output_type": "stream",
     "text": [
      "Confusion Matrix:\n",
      "[[8 2]\n",
      " [1 9]]\n"
     ]
    },
    {
     "data": {
      "image/png": "[encoded data removed]",
      "text/plain": [
       "<Figure size 640x480 with 2 Axes>"
      ]
     },
     "metadata": {},
     "output_type": "display_data"
    }
   ],
   "source": [
    "df['Expected Contextual'] = df['Expected Contextual'].astype(int)\n",
    "df['Is Contextual'] = df['Is Contextual'].astype(int)\n",
    "\n",
    "y_true = df['Expected Contextual']  # Ground truth labels\n",
    "y_pred = df['Is Contextual']        # Predicted labels\n",
    "\n",
    "cm = confusion_matrix(y_true, y_pred)\n",
    "print(\"Confusion Matrix:\")\n",
    "print(cm)\n",
    "\n",
    "# Plot confusion matrix\n",
    "disp = ConfusionMatrixDisplay(confusion_matrix=cm, display_labels=[\"Out-of-Context\", \"In-Context\"])\n",
    "disp.plot(cmap=plt.cm.Blues)\n",
    "plt.title(\"Confusion Matrix\")\n",
    "plt.show()"
   ]
  }
 ],
 "metadata": {
  "kernelspec": {
   "display_name": "Python 3 (ipykernel)",
   "language": "python",
   "name": "python3"
  },
  "language_info": {
   "codemirror_mode": {
    "name": "ipython",
    "version": 3
   },
   "file_extension": ".py",
   "mimetype": "text/x-python",
   "name": "python",
   "nbconvert_exporter": "python",
   "pygments_lexer": "ipython3",
   "version": "3.12.4"
  }
 },
 "nbformat": 4,
 "nbformat_minor": 5
}
